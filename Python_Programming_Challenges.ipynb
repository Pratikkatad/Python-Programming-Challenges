{
  "nbformat": 4,
  "nbformat_minor": 0,
  "metadata": {
    "colab": {
      "provenance": []
    },
    "kernelspec": {
      "name": "python3",
      "display_name": "Python 3"
    },
    "language_info": {
      "name": "python"
    }
  },
  "cells": [
    {
      "cell_type": "markdown",
      "source": [
        "Q1: You are working in a bank, and you have been given two lists of the employees who worked in 2021. Employees’ names in list 1 are Ramesh, Suresh, Mahesh, Ali, Jacob, and Saritha. List 2 contains the names of Ali, Mukesh, Mahesh, Jacob, Sai, and Sarita. Please write a program that helps to identify people who are common in both lists. Please do not use any in-built function."
      ],
      "metadata": {
        "id": "cL9R9o4krBMW"
      }
    },
    {
      "cell_type": "code",
      "execution_count": null,
      "metadata": {
        "colab": {
          "base_uri": "https://localhost:8080/"
        },
        "id": "zR585LiVq2GM",
        "outputId": "4743c58a-eb42-4513-9632-2047c6fb1a7d"
      },
      "outputs": [
        {
          "output_type": "stream",
          "name": "stdout",
          "text": [
            "Common_employees : ['Mahesh', 'Ali', 'Jacob']\n"
          ]
        }
      ],
      "source": [
        "List1=['Ramesh', 'Suresh', 'Mahesh', 'Ali', 'Jacob', 'Saritha']\n",
        "List2=['Ali', 'Mukesh', 'Mahesh', 'Jacob', 'Sai', 'Sarita']\n",
        "common_emp=[]\n",
        "\n",
        "for i in List1:\n",
        "  if i in List2:\n",
        "    common_emp.append(i)\n",
        "\n",
        "print(\"Common_employees :\",common_emp)"
      ]
    },
    {
      "cell_type": "markdown",
      "source": [
        " Q2.While entering data, someone entered a few names as a common string “Ramesh Suresh Mohit”. Please write a program which separates all the names and converts them into a list. Once converted into a list, please write a program that adds their age.\n",
        "\n",
        "\n",
        "Ramesh:  25\n",
        "\n",
        "Suresh: 22\n",
        "\n",
        "Mohit: 26"
      ],
      "metadata": {
        "id": "S6tJ6m8_uj9E"
      }
    },
    {
      "cell_type": "code",
      "source": [
        "Str=\"Ramesh Suresh Mohit\"\n",
        "name=Str.split()\n",
        "\n",
        "age=[25,22,26]\n",
        "\n",
        "l1=zip(name,age)\n",
        "\n",
        "for i,j in l1:\n",
        "  print(\"{}: {}\".format(i,j))"
      ],
      "metadata": {
        "colab": {
          "base_uri": "https://localhost:8080/"
        },
        "id": "8XH9S02Kr7g9",
        "outputId": "e6fb5b6e-1b5f-4ac5-cc74-310e67f8ba66"
      },
      "execution_count": null,
      "outputs": [
        {
          "output_type": "stream",
          "name": "stdout",
          "text": [
            "Ramesh: 25\n",
            "Suresh: 22\n",
            "Mohit: 26\n"
          ]
        }
      ]
    },
    {
      "cell_type": "markdown",
      "source": [
        "Q3.You are working in a medical store. A patient came to your medical store and asked to buy 2 strips of paracetamol, 3 strips of azithromycin, and 5 strips of Vitamin C. One strip of paracetamol costs Rs 35, one strip of azithromycin costs Rs 49, and one strip of vitamin c costs Rs. 33. Patient gave you Rs 2000. Please tell us what is the total cost of each medicine, the total cost of all medicine, and how much money you refunded to the patient."
      ],
      "metadata": {
        "id": "M0y_MgL31SqP"
      }
    },
    {
      "cell_type": "code",
      "source": [
        "cost = {'paracetamol': 35, 'azithromycin': 49, 'vitamin c': 33}\n",
        "quantity = {'paracetamol': 2, 'azithromycin': 3, 'vitamin c': 5}\n",
        "total = 0\n",
        "l1 = []\n",
        "grand_total = 0\n",
        "refund = 0\n",
        "\n",
        "for i,j in cost.items():\n",
        "  for a,b in quantity.items():\n",
        "    if i == a :\n",
        "      total = j*b\n",
        "      l1.append(total)\n",
        "      print('Total cost of medicine {} is : {}'.format(i,total))\n",
        "\n",
        "for n in range(len(l1)):\n",
        "  grand_total = grand_total + l1[n]\n",
        "  # 0 = 0 + 70\n",
        "  # 70 = 70 + 147\n",
        "  # 147 = 147 + 165\n",
        "  # 382\n",
        "print('Total cost of all medicine is Rs. {}'.format(grand_total))\n",
        "\n",
        "received = int(input('Enter given money:Rs. '))\n",
        "\n",
        "refund = received - grand_total\n",
        "print('Refund to patient Rs. {}'.format(refund))"
      ],
      "metadata": {
        "colab": {
          "base_uri": "https://localhost:8080/"
        },
        "id": "85CFNtIAyBZM",
        "outputId": "fca3b1fa-ade3-4c28-9cb2-b009214d7f57"
      },
      "execution_count": null,
      "outputs": [
        {
          "output_type": "stream",
          "name": "stdout",
          "text": [
            "Total cost of medicine paracetamol is : 70\n",
            "Total cost of medicine azithromycin is : 147\n",
            "Total cost of medicine vitamin c is : 165\n",
            "Total cost of all medicine is Rs. 382\n",
            "Enter given money:Rs. 2000\n",
            "Refund to patient Rs. 1618\n"
          ]
        }
      ]
    },
    {
      "cell_type": "markdown",
      "source": [
        "Q4.Accept a sentence as input and find the number of vowels in it. Assume that the sentence has no punctuation marks. For example, I am learning python contains 6 vowels. This function should be applicable for all other different sentences.\n",
        "\n"
      ],
      "metadata": {
        "id": "d9MPBGgJ75gT"
      }
    },
    {
      "cell_type": "code",
      "source": [
        "Sentence=input(\"Enter a sentence : \")\n",
        "vowels=('a','e','i','o','u')\n",
        "count=0\n",
        "for i in Sentence:\n",
        "  if i.lower() in vowels:\n",
        "    count=count+1\n",
        "\n",
        "print(\"Number of vowels in sentence :\",count)"
      ],
      "metadata": {
        "colab": {
          "base_uri": "https://localhost:8080/"
        },
        "id": "vmewN3r6745b",
        "outputId": "00697e3e-12dd-4790-c48e-8adf773211d7"
      },
      "execution_count": null,
      "outputs": [
        {
          "output_type": "stream",
          "name": "stdout",
          "text": [
            "Enter a sentence : I am learning python\n",
            "Number of vowels in sentence : 6\n"
          ]
        }
      ]
    },
    {
      "cell_type": "markdown",
      "source": [
        "Q5.You have been appointed by the election commission to create a website. Your first task is to work on a program which tells candidates if they are eligible for voting or not. If they are eligible, your output should be ‘Congrats! You are eligible’; otherwise, it should tell that you have to return after X number of years. The eligibility criteria for voting is 18 years."
      ],
      "metadata": {
        "id": "FqH3E283ACDB"
      }
    },
    {
      "cell_type": "code",
      "source": [
        "age = int(input('Enter your age : '))\n",
        "\n",
        "if age >= 18 :\n",
        "  print('Congrats! You are eligible')\n",
        "\n",
        "else :\n",
        "  age1 = 18 - age\n",
        "  print(\"Return after {} years.\".format(age1))\n"
      ],
      "metadata": {
        "colab": {
          "base_uri": "https://localhost:8080/"
        },
        "id": "FSQXZT4UAA_x",
        "outputId": "634101d1-0f0e-47fa-d80a-b825d17ff9f6"
      },
      "execution_count": null,
      "outputs": [
        {
          "output_type": "stream",
          "name": "stdout",
          "text": [
            "Enter your age : 23\n",
            "Congrats! You are eligible\n"
          ]
        }
      ]
    },
    {
      "cell_type": "markdown",
      "source": [
        "Q6.Given a list of integers, find the cumulative sum of the elements of the list and store them in another list.\n",
        "\n",
        "A = [1, 2, 3, 4, 5]\n",
        "\n",
        "Output:\n",
        "\n",
        "[1, 3, 6, 10, 15]"
      ],
      "metadata": {
        "id": "iUNNKB4fBlbM"
      }
    },
    {
      "cell_type": "code",
      "source": [
        "A = [1, 2, 3, 4, 5]\n",
        "sum = 0\n",
        "B = []\n",
        "\n",
        "for i in range(len(A)):\n",
        "  sum = sum + i + 1\n",
        "  # 0 = 0 + 0 + 1\n",
        "  # 1 = 1 + 1 + 1\n",
        "  # 3 = 3 + 2 + 1\n",
        "  # 6 = 6 + 3 + 1\n",
        "  # 10 = 10 + 4 + 1\n",
        "  # 15\n",
        "  B.append(sum)\n",
        "\n",
        "print(B)"
      ],
      "metadata": {
        "colab": {
          "base_uri": "https://localhost:8080/"
        },
        "id": "CpVlpKsIx0uD",
        "outputId": "492cd0c3-14a2-4be5-b7c9-e7a6adb6824a"
      },
      "execution_count": null,
      "outputs": [
        {
          "output_type": "stream",
          "name": "stdout",
          "text": [
            "[1, 3, 6, 10, 15]\n"
          ]
        }
      ]
    },
    {
      "cell_type": "markdown",
      "source": [
        "Q7.WAP to encode a message entered by user as per below conditions:\n",
        "\n",
        "for every word in the sentence,\n",
        "\n",
        "1. If the word starts with a vowel, encode it as first and last letter of the word.\n",
        "\n",
        "2. If the word starts with a consonant, remove all vowels from it.\n",
        "\n",
        "Ensure the case insensitive comparisions/checks are performed.\n",
        "\n",
        "Please enter your text:The quick brown fox used to sleep inside this box\n",
        "\n",
        "Encoded Msg: Th qck brwn fx ud t slp ie ths bx"
      ],
      "metadata": {
        "id": "Cpt2pEvHPEB6"
      }
    },
    {
      "cell_type": "code",
      "source": [
        "str1 = input('Enter a message : ')\n",
        "str1 = str1.split()\n",
        "vowel = 'aeiou'\n",
        "\n",
        "for word in str1:\n",
        "  if word[0].lower() in vowel:\n",
        "    print(word[0] + word[-1],end=' ')\n",
        "  else:\n",
        "    for j in word:\n",
        "      if j in vowel:\n",
        "        word = word.replace(j,'')\n",
        "    print(word,end=' ')"
      ],
      "metadata": {
        "id": "1GVyqIegCBB_",
        "colab": {
          "base_uri": "https://localhost:8080/"
        },
        "outputId": "78a9958a-c35f-45a0-8ea9-bee435659135"
      },
      "execution_count": null,
      "outputs": [
        {
          "output_type": "stream",
          "name": "stdout",
          "text": [
            "Enter a message : The quick brown fox used to sleep inside this box\n",
            "Th qck brwn fx ud t slp ie ths bx "
          ]
        }
      ]
    },
    {
      "cell_type": "markdown",
      "source": [
        "Q8.Write a program to implement run length encoding of a string\n",
        "\n",
        "RLE:Consecutive repetition of a character has to be replaced with the count of occurances and the character.\n",
        "\n",
        "Enter your string :aabbbccdddae\n",
        "\n",
        "Encoded: 2a3b2c3d1a1e"
      ],
      "metadata": {
        "id": "xCsKCcGIPQtt"
      }
    },
    {
      "cell_type": "code",
      "source": [
        "str1 = input('Enter your string : ')\n",
        "count = 1\n",
        "res = ''\n",
        "\n",
        "for i in range(1 , len(str1)):\n",
        "  if str1[i] == str1[i-1]:\n",
        "    count +=  1\n",
        "\n",
        "  else :\n",
        "    res += str(count) + str1[i-1]\n",
        "    count = 1\n",
        "\n",
        "res += str(count) + str1[i]\n",
        "\n",
        "print(\"Encoded :\",res)"
      ],
      "metadata": {
        "id": "2BSFvufZPWEM",
        "colab": {
          "base_uri": "https://localhost:8080/"
        },
        "outputId": "e524734f-765c-4336-89f0-f9ab2a7850b8"
      },
      "execution_count": null,
      "outputs": [
        {
          "output_type": "stream",
          "name": "stdout",
          "text": [
            "Enter your string : aabbbccdddae\n",
            "Encoded : 2a3b2c3d1a1e\n"
          ]
        }
      ]
    }
  ]
}